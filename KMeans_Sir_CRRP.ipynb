{
  "nbformat": 4,
  "nbformat_minor": 0,
  "metadata": {
    "kernelspec": {
      "display_name": "Python 2",
      "language": "python",
      "name": "python2"
    },
    "language_info": {
      "codemirror_mode": {
        "name": "ipython",
        "version": 2
      },
      "file_extension": ".py",
      "mimetype": "text/x-python",
      "name": "python",
      "nbconvert_exporter": "python",
      "pygments_lexer": "ipython2",
      "version": "2.7.10"
    },
    "colab": {
      "provenance": []
    }
  },
  "cells": [
    {
      "cell_type": "markdown",
      "metadata": {
        "id": "YIEVH2kTO7Bl"
      },
      "source": [
        "# Dividing into groups using Segmentation"
      ]
    },
    {
      "cell_type": "code",
      "metadata": {
        "id": "vJk7U13kbawb"
      },
      "source": [
        "from google.colab import drive\n",
        "drive.mount('/content/drive')"
      ],
      "execution_count": null,
      "outputs": []
    },
    {
      "cell_type": "markdown",
      "metadata": {
        "id": "cSm1eu2JOMiI"
      },
      "source": [
        "# **T. Prathima**, Assistant Professor, Dept. of IT, CBIT(A)"
      ]
    },
    {
      "cell_type": "code",
      "metadata": {
        "id": "CIXAHsl6OhVd"
      },
      "source": [
        "Reference:\n",
        "Samir Madhavan, “Mastering Python for Data Science”, Packt Publishing, 2015."
      ],
      "execution_count": null,
      "outputs": []
    },
    {
      "cell_type": "code",
      "metadata": {
        "id": "3swD4cujO7Bn"
      },
      "source": [
        "%matplotlib inline\n",
        "import numpy as np\n",
        "import pandas as pd\n",
        "import matplotlib.pyplot as plt\n",
        "from math import sqrt\n",
        "from scipy.stats.stats import pearsonr\n",
        "from sklearn.cluster import KMeans\n",
        "from scipy.cluster.vq import kmeans,vq\n",
        "from scipy.spatial.distance import cdist\n"
      ],
      "execution_count": null,
      "outputs": []
    },
    {
      "cell_type": "markdown",
      "metadata": {
        "id": "yuPW6adwO7By"
      },
      "source": [
        "## K-Means Clustering"
      ]
    },
    {
      "cell_type": "markdown",
      "metadata": {
        "id": "b8j962cJO7By"
      },
      "source": [
        "Let's look at a simple example before getting into K-meas clustering.\n",
        "\n",
        "We'll plot a scatter plot of height and weight of people and group the scatter based on the tshirt sizes"
      ]
    },
    {
      "cell_type": "code",
      "metadata": {
        "id": "_rISQ8-yO7Bz",
        "colab": {
          "base_uri": "https://localhost:8080/"
        },
        "outputId": "812dba91-45cf-48cc-8cb1-77a0aa036352"
      },
      "source": [
        "df = pd.read_csv('/content/tshirt_sizes.csv')\n",
        "print df[:10]"
      ],
      "execution_count": null,
      "outputs": [
        {
          "output_type": "stream",
          "text": [
            "   Height  Weight Size\n",
            "0     150      54    S\n",
            "1     150      55    S\n",
            "2     151      55    S\n",
            "3     151      47    S\n",
            "4     152      58    S\n",
            "5     155      53    S\n",
            "6     155      59    S\n",
            "7     157      60    S\n",
            "8     157      56    S\n",
            "9     157      55    S\n"
          ],
          "name": "stdout"
        }
      ]
    },
    {
      "cell_type": "markdown",
      "metadata": {
        "id": "zIJ9v2TUO7B5"
      },
      "source": [
        "Now, let's plot the scatter plot between height and weight , and group them based on the shirt sizes."
      ]
    },
    {
      "cell_type": "code",
      "metadata": {
        "id": "uACLxLAjO7B8",
        "colab": {
          "base_uri": "https://localhost:8080/",
          "height": 283
        },
        "outputId": "a8e94561-4cd9-499e-895b-1d2c3f87393a"
      },
      "source": [
        "d_color = {\n",
        "    \"S\": \"b\",\n",
        "    \"M\": \"r\",\n",
        "    \"L\": \"g\",\n",
        "}\n",
        "fig, ax = plt.subplots()\n",
        "for size in [\"S\", \"M\", \"L\"]:\n",
        "    color = d_color[size]\n",
        "    df[df.Size == size].plot(kind='scatter', x='Height', y='Weight', label=size, ax=ax, color=color)\n",
        "handles, labels = ax.get_legend_handles_labels()\n",
        "_ = ax.legend(handles, labels, loc=\"upper left\")"
      ],
      "execution_count": null,
      "outputs": [
        {
          "output_type": "display_data",
          "data": {
            "image/png": "[encoded data removed]",
            "text/plain": [
              "<Figure size 432x288 with 1 Axes>"
            ]
          },
          "metadata": {
            "tags": [],
            "needs_background": "light"
          }
        }
      ]
    },
    {
      "cell_type": "markdown",
      "metadata": {
        "id": "yTLHz4ODO7CE"
      },
      "source": [
        "You can see that people who have sizes as small have height and Weight quite less which is colored in blue. Similarly for the other t-shirt sizes, the height and weight are grouped together around each other.\n",
        "\n",
        "In this case, we had the labels for the t-shirt sizes but we would require a machine learning algorithm which will automatically perform this for us. This is where an algorithm like K-means helps us"
      ]
    },
    {
      "cell_type": "code",
      "metadata": {
        "id": "HR3efx-0O7CF",
        "colab": {
          "base_uri": "https://localhost:8080/"
        },
        "outputId": "85d79073-037c-4c2f-9799-3515c23971bd"
      },
      "source": [
        "km = KMeans(3,init='k-means++', random_state=3425) # initialize\n",
        "km.fit(df[['Height','Weight']])\n",
        "df['SizePredict'] = km.predict(df[['Height','Weight']])\n",
        "print pd.crosstab(df.Size\n",
        "                  ,df.SizePredict\n",
        "                  ,rownames = ['Size']\n",
        "                  ,colnames = ['SizePredict'])"
      ],
      "execution_count": null,
      "outputs": [
        {
          "output_type": "stream",
          "text": [
            "SizePredict   0   1   2\n",
            "Size                   \n",
            "L            13   0   1\n",
            "M             0   6  14\n",
            "S             0  15   0\n"
          ],
          "name": "stdout"
        }
      ]
    },
    {
      "cell_type": "markdown",
      "metadata": {
        "id": "yqLGNiX5O7CJ"
      },
      "source": [
        "We'll now map the clusters to the shirt sizes"
      ]
    },
    {
      "cell_type": "code",
      "metadata": {
        "id": "dv9L3nvMO7CK",
        "colab": {
          "base_uri": "https://localhost:8080/"
        },
        "outputId": "b70432ec-c3a8-4924-c766-55b22614a667"
      },
      "source": [
        "c_map = {\n",
        "    2: \"M\",\n",
        "    1: \"S\",\n",
        "    0: \"L\",\n",
        "}\n",
        "\n",
        "df['SizePredict'] = df['SizePredict'].map(c_map)\n",
        "df['SizePredict'][:10]\n"
      ],
      "execution_count": null,
      "outputs": [
        {
          "output_type": "execute_result",
          "data": {
            "text/plain": [
              "0    S\n",
              "1    S\n",
              "2    S\n",
              "3    S\n",
              "4    S\n",
              "5    S\n",
              "6    S\n",
              "7    S\n",
              "8    S\n",
              "9    S\n",
              "Name: SizePredict, dtype: object"
            ]
          },
          "metadata": {
            "tags": []
          },
          "execution_count": 18
        }
      ]
    },
    {
      "cell_type": "markdown",
      "metadata": {
        "id": "grsU8SkEO7CP"
      },
      "source": [
        "We define 3 clusters in the K-Means algorithm and then we input the height and weight to the kmeans algorithm. Post this we predict the buckets."
      ]
    },
    {
      "cell_type": "code",
      "metadata": {
        "id": "JRE0BU0LO7CP",
        "colab": {
          "base_uri": "https://localhost:8080/",
          "height": 283
        },
        "outputId": "3c201393-2599-4695-f805-247b93048250"
      },
      "source": [
        "fig, ax = plt.subplots()\n",
        "for size in [\"S\", \"M\", \"L\"]:\n",
        "    color = d_color[size]\n",
        "    df[df.SizePredict == size].plot(kind='scatter', x='Height', y='Weight', label=size, ax=ax, color=color)\n",
        "handles, labels = ax.get_legend_handles_labels()\n",
        "_ = ax.legend(handles, labels, loc=\"upper left\")"
      ],
      "execution_count": null,
      "outputs": [
        {
          "output_type": "display_data",
          "data": {
            "image/png": "[encoded data removed]",
            "text/plain": [
              "<Figure size 432x288 with 1 Axes>"
            ]
          },
          "metadata": {
            "tags": [],
            "needs_background": "light"
          }
        }
      ]
    },
    {
      "cell_type": "markdown",
      "metadata": {
        "id": "Cm9-1TgjO7CU"
      },
      "source": [
        "We can see from the plot that the K-means algorithm was able to group the people into appropriate buckets where the shirt sizes can be used to identify a bucket as unique."
      ]
    },
    {
      "cell_type": "markdown",
      "metadata": {
        "id": "DSOctqezO7CV"
      },
      "source": [
        "## K-Means Clustering with U.N Data"
      ]
    },
    {
      "cell_type": "markdown",
      "metadata": {
        "id": "dNBr5Ih4O7CW"
      },
      "source": [
        "We have UN data on different countries of the world on the education to GDP.\n",
        "<table><tr><th>country</th><td>Name of the country</td></tr>\n",
        "<tr><th>region</th><td>Continent the country belongs to</td></tr>\n",
        "<tr><th>tfr</th><td>Total Fertility Rate</td></tr>\n",
        "<tr><th>contraception</th><td>Percentage of people taking contraceptions</td></tr>\n",
        "<tr><th>educationMale</th><td>Percentage of male population who are educated </td></tr>\n",
        "<tr><th>educationFemale</th><td>Percentage of male population who are educated</td></tr>\n",
        "<tr><th>lifeMale</th><td>Life Expectancy of Male</td></tr>\n",
        "<tr><th>lifeFemale</th><td>Life Expectancy of Female</td></tr>\n",
        "<tr><th>infantMortality</th><td>Infant Mortality Rate</td></tr>\n",
        "<tr><th>GDPperCapita</th><td>GDP per capita</td></tr>\n",
        "<tr><th>economicActivityMale</th><td>Males who generate income</td></tr>\n",
        "<tr><th>economicActivityFemale</th><td>Females who generate income</td></tr>\n",
        "<tr><th>illiteracyMale</th><td>Illiteracy rate in Male</td></tr>\n",
        "<tr><th>illiteracyFemale</th><td>Illiteracy rate in Female</td></tr>\n",
        "</table>"
      ]
    },
    {
      "cell_type": "code",
      "metadata": {
        "id": "Nphv8qy0O7CW",
        "colab": {
          "base_uri": "https://localhost:8080/"
        },
        "outputId": "ce1ded97-314f-46cd-b303-76dacd260e8e"
      },
      "source": [
        "df = pd.read_csv('/content/UN.csv')\n",
        "\n",
        "print('----')\n",
        "\n",
        "print('Individual columns - Python data types')\n",
        "[(col, type(df[col][0])) for col in df.columns]"
      ],
      "execution_count": null,
      "outputs": [
        {
          "output_type": "stream",
          "text": [
            "----\n",
            "Individual columns - Python data types\n"
          ],
          "name": "stdout"
        },
        {
          "output_type": "execute_result",
          "data": {
            "text/plain": [
              "[('country', str),\n",
              " ('region', str),\n",
              " ('tfr', numpy.float64),\n",
              " ('contraception', numpy.float64),\n",
              " ('educationMale', numpy.float64),\n",
              " ('educationFemale', numpy.float64),\n",
              " ('lifeMale', numpy.float64),\n",
              " ('lifeFemale', numpy.float64),\n",
              " ('infantMortality', numpy.float64),\n",
              " ('GDPperCapita', numpy.float64),\n",
              " ('economicActivityMale', numpy.float64),\n",
              " ('economicActivityFemale', numpy.float64),\n",
              " ('illiteracyMale', numpy.float64),\n",
              " ('illiteracyFemale', numpy.float64)]"
            ]
          },
          "metadata": {
            "tags": []
          },
          "execution_count": 22
        }
      ]
    },
    {
      "cell_type": "markdown",
      "metadata": {
        "id": "LbcGsAsrO7Ch"
      },
      "source": [
        "Let's see the fill rate of the columns"
      ]
    },
    {
      "cell_type": "code",
      "metadata": {
        "id": "ZQOE5Ba1O7Ci",
        "colab": {
          "base_uri": "https://localhost:8080/"
        },
        "outputId": "73aaefae-7f1f-4343-e11b-eabd5842baed"
      },
      "source": [
        "print('Percentage of the values complete in the columns')\n",
        "df.count(0)/df.shape[0] * 100"
      ],
      "execution_count": null,
      "outputs": [
        {
          "output_type": "stream",
          "text": [
            "Percentage of the values complete in the columns\n"
          ],
          "name": "stdout"
        },
        {
          "output_type": "execute_result",
          "data": {
            "text/plain": [
              "country                   100.000000\n",
              "region                    100.000000\n",
              "tfr                        95.169082\n",
              "contraception              69.565217\n",
              "educationMale              36.714976\n",
              "educationFemale            36.714976\n",
              "lifeMale                   94.685990\n",
              "lifeFemale                 94.685990\n",
              "infantMortality            97.101449\n",
              "GDPperCapita               95.169082\n",
              "economicActivityMale       79.710145\n",
              "economicActivityFemale     79.710145\n",
              "illiteracyMale             77.294686\n",
              "illiteracyFemale           77.294686\n",
              "dtype: float64"
            ]
          },
          "metadata": {
            "tags": []
          },
          "execution_count": 23
        }
      ]
    },
    {
      "cell_type": "markdown",
      "metadata": {
        "id": "GEPLzaFMO7Cn"
      },
      "source": [
        "We can see that education columns don't have a good file rate followed by contraception.\n",
        "\n",
        "The columns with a good fill rate is life expectancy of Male and Female, infant mortality and GDPperCapita. With these columns we'll be losing out only on few countries where as if we include other columns, we'll be losing out on a lot of countries\n",
        "\n",
        "There should be a clustering influence based on the life expectancy of male and female, infant mortality rate based on the GDP of the country."
      ]
    },
    {
      "cell_type": "code",
      "metadata": {
        "id": "XXpf5ZRHO7Co"
      },
      "source": [
        "df = df[['lifeMale', 'lifeFemale', 'infantMortality', 'GDPperCapita']]\n",
        "\n",
        "df = df.dropna(how='any')"
      ],
      "execution_count": null,
      "outputs": []
    },
    {
      "cell_type": "markdown",
      "metadata": {
        "id": "_a7Gz7DTO7Cu"
      },
      "source": [
        "### Determining the number of clusters"
      ]
    },
    {
      "cell_type": "markdown",
      "metadata": {
        "id": "UOVd6UrzO7Cv"
      },
      "source": [
        "Before applying the K-means algorithm. We would like to know how many are the ideal clusters on the data."
      ]
    },
    {
      "cell_type": "code",
      "metadata": {
        "id": "-T2l8BSPO7Cw",
        "colab": {
          "base_uri": "https://localhost:8080/"
        },
        "outputId": "9b2c243f-f571-4dd2-f0c0-f56f4f128069"
      },
      "source": [
        "K = range(1,10)\n",
        "\n",
        "# scipy.cluster.vq.kmeans\n",
        "k_clusters = [kmeans(df.values,k) for k in K] # apply kmeans 1 to 10\n",
        "k_clusters[:6]\n",
        "\n",
        "#kmeans , \"distortion\" is defined as \"the sum of the squared differences between\n",
        "#the observations and the corresponding centroid\"."
      ],
      "execution_count": null,
      "outputs": [
        {
          "output_type": "execute_result",
          "data": {
            "text/plain": [
              "[(array([[  63.52606383,   68.30904255,   44.30851064, 5890.59574468]]),\n",
              "  6534.980962662017),\n",
              " (array([[7.39588235e+01, 7.97735294e+01, 7.73529412e+00, 2.26397353e+04],\n",
              "         [6.12227273e+01, 6.57779221e+01, 5.23831169e+01, 2.19273377e+03]]),\n",
              "  2707.2294867471232),\n",
              " (array([[7.43954545e+01, 8.02863636e+01, 6.54545455e+00, 2.68702273e+04],\n",
              "         [6.01681159e+01, 6.46014493e+01, 5.63260870e+01, 1.43936232e+03],\n",
              "         [7.15357143e+01, 7.71714286e+01, 1.47500000e+01, 1.13448214e+04]]),\n",
              "  1864.3405336245864),\n",
              " (array([[5.84009524e+01, 6.24123810e+01, 6.39047619e+01, 7.61380952e+02],\n",
              "         [7.44500000e+01, 8.04111111e+01, 5.94444444e+00, 2.85954444e+04],\n",
              "         [6.62410256e+01, 7.19743590e+01, 3.02307692e+01, 4.11330769e+03],\n",
              "         [7.25884615e+01, 7.82461538e+01, 1.28461538e+01, 1.35519231e+04]]),\n",
              "  1417.8346017079832),\n",
              " (array([[6.56763158e+01, 7.11789474e+01, 3.23421053e+01, 3.50860526e+03],\n",
              "         [5.81821782e+01, 6.22128713e+01, 6.50396040e+01, 7.08287129e+02],\n",
              "         [7.38800000e+01, 7.90333333e+01, 9.33333333e+00, 1.78942667e+04],\n",
              "         [7.45866667e+01, 8.06066667e+01, 5.73333333e+00, 3.01338667e+04],\n",
              "         [7.07263158e+01, 7.68000000e+01, 1.61052632e+01, 9.58663158e+03]]),\n",
              "  1116.634229480934),\n",
              " (array([[6.59222222e+01, 7.16027778e+01, 3.15833333e+01, 3.70975000e+03],\n",
              "         [7.10444444e+01, 7.72333333e+01, 1.56111111e+01, 9.76272222e+03],\n",
              "         [7.61000000e+01, 8.23500000e+01, 4.50000000e+00, 4.20670000e+04],\n",
              "         [7.38800000e+01, 7.90333333e+01, 9.33333333e+00, 1.78942667e+04],\n",
              "         [7.43538462e+01, 8.03384615e+01, 5.92307692e+00, 2.82980000e+04],\n",
              "         [5.83067308e+01, 6.23038462e+01, 6.42884615e+01, 7.47403846e+02]]),\n",
              "  950.5215079987645)]"
            ]
          },
          "metadata": {
            "tags": []
          },
          "execution_count": 25
        }
      ]
    },
    {
      "cell_type": "markdown",
      "metadata": {
        "id": "B_f1SqDMO7C1"
      },
      "source": [
        "In the above code, we define number of clusters from 1 to 10. Using the scipy's k-mean, we compute the centroids and the distortion between the centroids and the observed values associated to that cluster"
      ]
    },
    {
      "cell_type": "code",
      "metadata": {
        "id": "WuNHaZSHO7C1",
        "colab": {
          "base_uri": "https://localhost:8080/"
        },
        "outputId": "dd0f32a4-ca34-4202-ed45-17c5c98a13e5"
      },
      "source": [
        "euclidean_centroid = [cdist(df.values, centroid, 'euclidean') for (centroid,var) in k_clusters]\n",
        "print '-----with 1 cluster------'\n",
        "print euclidean_centroid[0][:5]\n",
        "\n",
        "print '-----with 2 cluster------'\n",
        "print euclidean_centroid[1][:5]\n"
      ],
      "execution_count": null,
      "outputs": [
        {
          "output_type": "stream",
          "text": [
            "-----with 1 cluster------\n",
            "[[3044.71049474]\n",
            " [5027.61602297]\n",
            " [4359.59802141]\n",
            " [5536.23755972]\n",
            " [2164.54439528]]\n",
            "-----with 2 cluster------\n",
            "[[19792.32574968   663.5918709 ]\n",
            " [21776.75039319  1329.9326654 ]\n",
            " [21108.76955936   661.83208396]\n",
            " [22285.08003662  1839.28608809]\n",
            " [14584.74322443  5862.36131557]]\n"
          ],
          "name": "stdout"
        }
      ]
    },
    {
      "cell_type": "markdown",
      "metadata": {
        "id": "sW6dMZLdO7C-"
      },
      "source": [
        "We take the centroids in each of the group of clusters and compute the euclidean distance from all the points in space to the centroids of the cluster using the cdist function in scipy.\n",
        "\n",
        "You can see that the 1st cluster has only 1 column since it has only one cluster in it and the 2nd cluster has 2 columns as it has two clusters in it"
      ]
    },
    {
      "cell_type": "code",
      "metadata": {
        "id": "knXiqwiwO7C_",
        "colab": {
          "base_uri": "https://localhost:8080/"
        },
        "outputId": "ec9abda1-af3a-4c68-f144-cc2afcc675f0"
      },
      "source": [
        "distance = [np.min(D,axis=1) for D in euclidean_centroid]\n",
        "print '-----with 1st cluster------'\n",
        "print distance[0][:5]\n",
        "print '-----with 2nd cluster------'\n",
        "print distance[1][:5]"
      ],
      "execution_count": null,
      "outputs": [
        {
          "output_type": "stream",
          "text": [
            "-----with 1st cluster------\n",
            "[3044.71049474 5027.61602297 4359.59802141 5536.23755972 2164.54439528]\n",
            "-----with 2nd cluster------\n",
            "[ 663.5918709  1329.9326654   661.83208396 1839.28608809 5862.36131557]\n"
          ],
          "name": "stdout"
        }
      ]
    },
    {
      "cell_type": "markdown",
      "metadata": {
        "id": "B-I8gd20O7DD"
      },
      "source": [
        "As we have the distance of each of the observed points from the different centroids, we find the minimum distance of each observed point from the closest centroid.\n",
        "\n",
        "You can see above that the 1s  and 2nd clusters have single values to a centroid only now\n",
        "\n",
        "We'll now compute the average of the sum of square of the distance."
      ]
    },
    {
      "cell_type": "code",
      "metadata": {
        "id": "6kvkpI1-O7DE",
        "colab": {
          "base_uri": "https://localhost:8080/"
        },
        "outputId": "87c8e066-59d5-4832-cd15-e4fa5ca808d9"
      },
      "source": [
        "avgWithinSumSquare = [sum(d)/df.values.shape[0] for d in distance]\n",
        "avgWithinSumSquare"
      ],
      "execution_count": null,
      "outputs": [
        {
          "output_type": "execute_result",
          "data": {
            "text/plain": [
              "[6534.980962662014,\n",
              " 2790.210119330013,\n",
              " 1874.0284870915727,\n",
              " 1446.813803826119,\n",
              " 1120.3902815703975,\n",
              " 960.46274528184,\n",
              " 739.9288207840758,\n",
              " 645.9191541044534,\n",
              " 597.142062512702]"
            ]
          },
          "metadata": {
            "tags": []
          },
          "execution_count": 28
        }
      ]
    },
    {
      "cell_type": "markdown",
      "metadata": {
        "id": "AQO_PDYkO7DI"
      },
      "source": [
        "Each of the value in the array is the average sum of square from having 1 cluster to a group of 10 clusters\n",
        "\n",
        "We'll now plot the Elbow curve for K-Means clustering using this data"
      ]
    },
    {
      "cell_type": "code",
      "metadata": {
        "id": "5HufRYTOO7DJ",
        "colab": {
          "base_uri": "https://localhost:8080/",
          "height": 295
        },
        "outputId": "0daa9851-bc05-484b-90f3-151e593be81d"
      },
      "source": [
        "point_id = 2\n",
        "# plot elbow curve\n",
        "fig = plt.figure()\n",
        "ax = fig.add_subplot(111)\n",
        "ax.plot(K, avgWithinSumSquare, 'b*-')\n",
        "ax.plot(K[point_id], avgWithinSumSquare[point_id], marker='o', markersize=12,\n",
        "      markeredgewidth=2, markeredgecolor='r', markerfacecolor='None')\n",
        "plt.grid(True)\n",
        "plt.xlabel('No. of clusters')\n",
        "plt.ylabel('Avg sum of squares')\n",
        "tt = plt.title('Elbow Curve')"
      ],
      "execution_count": null,
      "outputs": [
        {
          "output_type": "display_data",
          "data": {
            "image/png": "[encoded data removed]",
            "text/plain": [
              "<Figure size 432x288 with 1 Axes>"
            ]
          },
          "metadata": {
            "tags": [],
            "needs_background": "light"
          }
        }
      ]
    },
    {
      "cell_type": "markdown",
      "metadata": {
        "id": "eMDgQkp0O7DQ"
      },
      "source": [
        "This curve is really useful. It helps to know what would be the ideal number of clusters for K-Means. Here we can see that 3 number of clusters is ideal since the drop in Average sum of square is flattening out post it.\n",
        "\n",
        "These 3 clusters of countries should be Developed, Developing and under developed countries."
      ]
    },
    {
      "cell_type": "markdown",
      "metadata": {
        "id": "CrrzcVtEO7DQ"
      },
      "source": [
        "### Clustering the countries"
      ]
    },
    {
      "cell_type": "markdown",
      "metadata": {
        "id": "OwYFgW-cO7DR"
      },
      "source": [
        "We'll now apply the K-Means algorithm to cluster the countries together"
      ]
    },
    {
      "cell_type": "code",
      "metadata": {
        "id": "yfWhO4IRO7DS",
        "colab": {
          "base_uri": "https://localhost:8080/",
          "height": 195
        },
        "outputId": "7cb71008-527d-443a-b5e1-2854f8c72906"
      },
      "source": [
        "km = KMeans(3, init='k-means++', random_state = 3425) # initialize\n",
        "km.fit(df.values)\n",
        "df['countrySegment'] = km.predict(df.values)\n",
        "df[:5]"
      ],
      "execution_count": null,
      "outputs": [
        {
          "output_type": "execute_result",
          "data": {
            "text/plain": [
              "   lifeMale  lifeFemale  infantMortality  GDPperCapita  countrySegment\n",
              "0      45.0        46.0            154.0        2848.0               1\n",
              "1      68.0        74.0             32.0         863.0               1\n",
              "2      67.5        70.3             44.0        1531.0               1\n",
              "5      44.9        48.1            124.0         355.0               1\n",
              "7      69.6        76.8             22.0        8055.0               0"
            ],
            "text/html": [
              "<div>\n",
              "<style scoped>\n",
              "    .dataframe tbody tr th:only-of-type {\n",
              "        vertical-align: middle;\n",
              "    }\n",
              "\n",
              "    .dataframe tbody tr th {\n",
              "        vertical-align: top;\n",
              "    }\n",
              "\n",
              "    .dataframe thead th {\n",
              "        text-align: right;\n",
              "    }\n",
              "</style>\n",
              "<table border=\"1\" class=\"dataframe\">\n",
              "  <thead>\n",
              "    <tr style=\"text-align: right;\">\n",
              "      <th></th>\n",
              "      <th>lifeMale</th>\n",
              "      <th>lifeFemale</th>\n",
              "      <th>infantMortality</th>\n",
              "      <th>GDPperCapita</th>\n",
              "      <th>countrySegment</th>\n",
              "    </tr>\n",
              "  </thead>\n",
              "  <tbody>\n",
              "    <tr>\n",
              "      <th>0</th>\n",
              "      <td>45.0</td>\n",
              "      <td>46.0</td>\n",
              "      <td>154.0</td>\n",
              "      <td>2848.0</td>\n",
              "      <td>1</td>\n",
              "    </tr>\n",
              "    <tr>\n",
              "      <th>1</th>\n",
              "      <td>68.0</td>\n",
              "      <td>74.0</td>\n",
              "      <td>32.0</td>\n",
              "      <td>863.0</td>\n",
              "      <td>1</td>\n",
              "    </tr>\n",
              "    <tr>\n",
              "      <th>2</th>\n",
              "      <td>67.5</td>\n",
              "      <td>70.3</td>\n",
              "      <td>44.0</td>\n",
              "      <td>1531.0</td>\n",
              "      <td>1</td>\n",
              "    </tr>\n",
              "    <tr>\n",
              "      <th>5</th>\n",
              "      <td>44.9</td>\n",
              "      <td>48.1</td>\n",
              "      <td>124.0</td>\n",
              "      <td>355.0</td>\n",
              "      <td>1</td>\n",
              "    </tr>\n",
              "    <tr>\n",
              "      <th>7</th>\n",
              "      <td>69.6</td>\n",
              "      <td>76.8</td>\n",
              "      <td>22.0</td>\n",
              "      <td>8055.0</td>\n",
              "      <td>0</td>\n",
              "    </tr>\n",
              "  </tbody>\n",
              "</table>\n",
              "</div>"
            ]
          },
          "metadata": {
            "tags": []
          },
          "execution_count": 30
        }
      ]
    },
    {
      "cell_type": "markdown",
      "metadata": {
        "id": "aeWNlWdgO7DW"
      },
      "source": [
        "Let's find the average GDP per capita for each country segment"
      ]
    },
    {
      "cell_type": "code",
      "metadata": {
        "id": "vyxLSd0YO7DW",
        "outputId": "8a9745df-f5d1-46d2-8256-c56381c9bf86"
      },
      "source": [
        "df.groupby('countrySegment').GDPperCapita.mean()"
      ],
      "execution_count": null,
      "outputs": [
        {
          "output_type": "execute_result",
          "data": {
            "text/plain": [
              "countrySegment\n",
              "0    13800.586207\n",
              "1     1624.538462\n",
              "2    29681.625000\n",
              "Name: GDPperCapita, dtype: float64"
            ]
          },
          "metadata": {
            "tags": []
          },
          "execution_count": 100
        }
      ]
    },
    {
      "cell_type": "markdown",
      "metadata": {
        "id": "wq8Wtal4O7Db"
      },
      "source": [
        "We can see that cluster 2 has the highest average GDP per capita and we can assume these as Developed countries. Cluster 0 has the 2nd highest, we can assume these as the developing and finally cluster 1 has a very low average GDP per capita, we can assume this as under developed nations."
      ]
    },
    {
      "cell_type": "code",
      "metadata": {
        "id": "QQxRsP0YO7Dc",
        "colab": {
          "base_uri": "https://localhost:8080/",
          "height": 352
        },
        "outputId": "d31af539-aabf-4c67-8d89-9aa6e666873d"
      },
      "source": [
        "clust_map = {\n",
        "    0:'Developing',\n",
        "    1:'Under Developed',\n",
        "    2:'Developed'\n",
        "}\n",
        "\n",
        "df.countrySegment = df.countrySegment.map(clust_map)\n",
        "df[:10]"
      ],
      "execution_count": null,
      "outputs": [
        {
          "output_type": "execute_result",
          "data": {
            "text/plain": [
              "    lifeMale  lifeFemale  infantMortality  GDPperCapita   countrySegment\n",
              "0       45.0        46.0            154.0        2848.0  Under Developed\n",
              "1       68.0        74.0             32.0         863.0  Under Developed\n",
              "2       67.5        70.3             44.0        1531.0  Under Developed\n",
              "5       44.9        48.1            124.0         355.0  Under Developed\n",
              "7       69.6        76.8             22.0        8055.0       Developing\n",
              "8       67.2        74.0             25.0         354.0  Under Developed\n",
              "9       75.4        81.2              6.0       20046.0       Developing\n",
              "10      73.7        80.1              6.0       29006.0        Developed\n",
              "11      66.5        74.5             33.0         321.0  Under Developed\n",
              "12      70.5        77.1             14.0       12545.0       Developing"
            ],
            "text/html": [
              "<div>\n",
              "<style scoped>\n",
              "    .dataframe tbody tr th:only-of-type {\n",
              "        vertical-align: middle;\n",
              "    }\n",
              "\n",
              "    .dataframe tbody tr th {\n",
              "        vertical-align: top;\n",
              "    }\n",
              "\n",
              "    .dataframe thead th {\n",
              "        text-align: right;\n",
              "    }\n",
              "</style>\n",
              "<table border=\"1\" class=\"dataframe\">\n",
              "  <thead>\n",
              "    <tr style=\"text-align: right;\">\n",
              "      <th></th>\n",
              "      <th>lifeMale</th>\n",
              "      <th>lifeFemale</th>\n",
              "      <th>infantMortality</th>\n",
              "      <th>GDPperCapita</th>\n",
              "      <th>countrySegment</th>\n",
              "    </tr>\n",
              "  </thead>\n",
              "  <tbody>\n",
              "    <tr>\n",
              "      <th>0</th>\n",
              "      <td>45.0</td>\n",
              "      <td>46.0</td>\n",
              "      <td>154.0</td>\n",
              "      <td>2848.0</td>\n",
              "      <td>Under Developed</td>\n",
              "    </tr>\n",
              "    <tr>\n",
              "      <th>1</th>\n",
              "      <td>68.0</td>\n",
              "      <td>74.0</td>\n",
              "      <td>32.0</td>\n",
              "      <td>863.0</td>\n",
              "      <td>Under Developed</td>\n",
              "    </tr>\n",
              "    <tr>\n",
              "      <th>2</th>\n",
              "      <td>67.5</td>\n",
              "      <td>70.3</td>\n",
              "      <td>44.0</td>\n",
              "      <td>1531.0</td>\n",
              "      <td>Under Developed</td>\n",
              "    </tr>\n",
              "    <tr>\n",
              "      <th>5</th>\n",
              "      <td>44.9</td>\n",
              "      <td>48.1</td>\n",
              "      <td>124.0</td>\n",
              "      <td>355.0</td>\n",
              "      <td>Under Developed</td>\n",
              "    </tr>\n",
              "    <tr>\n",
              "      <th>7</th>\n",
              "      <td>69.6</td>\n",
              "      <td>76.8</td>\n",
              "      <td>22.0</td>\n",
              "      <td>8055.0</td>\n",
              "      <td>Developing</td>\n",
              "    </tr>\n",
              "    <tr>\n",
              "      <th>8</th>\n",
              "      <td>67.2</td>\n",
              "      <td>74.0</td>\n",
              "      <td>25.0</td>\n",
              "      <td>354.0</td>\n",
              "      <td>Under Developed</td>\n",
              "    </tr>\n",
              "    <tr>\n",
              "      <th>9</th>\n",
              "      <td>75.4</td>\n",
              "      <td>81.2</td>\n",
              "      <td>6.0</td>\n",
              "      <td>20046.0</td>\n",
              "      <td>Developing</td>\n",
              "    </tr>\n",
              "    <tr>\n",
              "      <th>10</th>\n",
              "      <td>73.7</td>\n",
              "      <td>80.1</td>\n",
              "      <td>6.0</td>\n",
              "      <td>29006.0</td>\n",
              "      <td>Developed</td>\n",
              "    </tr>\n",
              "    <tr>\n",
              "      <th>11</th>\n",
              "      <td>66.5</td>\n",
              "      <td>74.5</td>\n",
              "      <td>33.0</td>\n",
              "      <td>321.0</td>\n",
              "      <td>Under Developed</td>\n",
              "    </tr>\n",
              "    <tr>\n",
              "      <th>12</th>\n",
              "      <td>70.5</td>\n",
              "      <td>77.1</td>\n",
              "      <td>14.0</td>\n",
              "      <td>12545.0</td>\n",
              "      <td>Developing</td>\n",
              "    </tr>\n",
              "  </tbody>\n",
              "</table>\n",
              "</div>"
            ]
          },
          "metadata": {
            "tags": []
          },
          "execution_count": 29
        }
      ]
    },
    {
      "cell_type": "markdown",
      "metadata": {
        "id": "TIVFuIr3O7Dl"
      },
      "source": [
        "Let's see the GDP vs infant mortality rate of the countries based on the cluster"
      ]
    },
    {
      "cell_type": "code",
      "metadata": {
        "id": "pWgCw1gEO7Dm",
        "colab": {
          "base_uri": "https://localhost:8080/",
          "height": 283
        },
        "outputId": "d6d80fc9-2ef3-4aa4-d1a8-06d3ce8f4cca"
      },
      "source": [
        "d_color = {\n",
        "    'Developing':'y',\n",
        "    'Under Developed':'r',\n",
        "    'Developed':'g'\n",
        "}\n",
        "\n",
        "fig, ax = plt.subplots()\n",
        "for clust in clust_map.values():\n",
        "    color = d_color[clust]\n",
        "    df[df.countrySegment == clust].plot(kind='scatter', x='GDPperCapita', y='infantMortality', label=clust, ax=ax, color=color)\n",
        "handles, labels = ax.get_legend_handles_labels()\n",
        "_ = ax.legend(handles, labels, loc=\"upper right\")"
      ],
      "execution_count": null,
      "outputs": [
        {
          "output_type": "display_data",
          "data": {
            "image/png": "[encoded data removed]",
            "text/plain": [
              "<Figure size 432x288 with 1 Axes>"
            ]
          },
          "metadata": {
            "tags": [],
            "needs_background": "light"
          }
        }
      ]
    },
    {
      "cell_type": "markdown",
      "metadata": {
        "id": "NLGl2FCRO7Dq"
      },
      "source": [
        "We can see from the above graph that clearly when the GDP is low, the infant mortality rate is really high and as the GDP increases, the infant mortality rate decreases.\n",
        "\n",
        "We can also clearly see that the countries in green are the under developed nations, the one in dark blue are the developing nations and the one in red are the Developed nations\n",
        "\n",
        "Let's see the life expectancy of male with respect to the GDP"
      ]
    },
    {
      "cell_type": "code",
      "metadata": {
        "id": "LELzO_lkO7Dq",
        "colab": {
          "base_uri": "https://localhost:8080/",
          "height": 284
        },
        "outputId": "14d9aaad-6cc3-46fe-e9cd-7acabcf9d1da"
      },
      "source": [
        "fig, ax = plt.subplots()\n",
        "for clust in clust_map.values():\n",
        "    color = d_color[clust]\n",
        "    df[df.countrySegment == clust].plot(kind='scatter', x='GDPperCapita', y='lifeMale', label=clust, ax=ax, color=color)\n",
        "handles, labels = ax.get_legend_handles_labels()\n",
        "_ = ax.legend(handles, labels, loc=\"lower right\")"
      ],
      "execution_count": null,
      "outputs": [
        {
          "output_type": "display_data",
          "data": {
            "image/png": "[encoded data removed]",
            "text/plain": [
              "<Figure size 432x288 with 1 Axes>"
            ]
          },
          "metadata": {
            "tags": [],
            "needs_background": "light"
          }
        }
      ]
    },
    {
      "cell_type": "markdown",
      "metadata": {
        "id": "hNKVzjgNO7Dw"
      },
      "source": [
        "We can see that the life expectancy of the male also increases with the GDP for the different kinds of nations.\n",
        "\n",
        "Now for the life expectancy of female and GDP"
      ]
    },
    {
      "cell_type": "code",
      "metadata": {
        "id": "0bm8mn6fO7Dw",
        "colab": {
          "base_uri": "https://localhost:8080/",
          "height": 283
        },
        "outputId": "6d795ae8-43a0-4710-92a9-5aa2bbd6a196"
      },
      "source": [
        "fig, ax = plt.subplots()\n",
        "for clust in clust_map.values():\n",
        "    color = d_color[clust]\n",
        "    df[df.countrySegment == clust].plot(kind='scatter', x='GDPperCapita', y='lifeFemale', label=clust, ax=ax, color=color)\n",
        "handles, labels = ax.get_legend_handles_labels()\n",
        "_ = ax.legend(handles, labels, loc=\"lower right\")"
      ],
      "execution_count": null,
      "outputs": [
        {
          "output_type": "display_data",
          "data": {
            "image/png": "[encoded data removed]",
            "text/plain": [
              "<Figure size 432x288 with 1 Axes>"
            ]
          },
          "metadata": {
            "tags": [],
            "needs_background": "light"
          }
        }
      ]
    },
    {
      "cell_type": "markdown",
      "metadata": {
        "id": "Udm6161QO7D3"
      },
      "source": [
        "Similiarly trend for the females too"
      ]
    },
    {
      "cell_type": "code",
      "metadata": {
        "id": "CwJJgPHjF4NT"
      },
      "source": [],
      "execution_count": null,
      "outputs": []
    }
  ]
}